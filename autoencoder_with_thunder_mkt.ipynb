{
  "nbformat": 4,
  "nbformat_minor": 0,
  "metadata": {
    "colab": {
      "name": "autoencoder with thunder mkt.ipynb",
      "provenance": [],
      "collapsed_sections": [],
      "mount_file_id": "1bHJ9U1tXqT4gzgX46HFdoy-LRe8vvYwx",
      "authorship_tag": "ABX9TyMhx9NwDsDUj7Ergl1oLGHv"
    },
    "kernelspec": {
      "name": "python3",
      "display_name": "Python 3"
    },
    "language_info": {
      "name": "python"
    },
    "accelerator": "GPU"
  },
  "cells": [
    {
      "cell_type": "code",
      "source": [
        "from google.colab import drive\n",
        "drive.mount('/content/drive')"
      ],
      "metadata": {
        "colab": {
          "base_uri": "https://localhost:8080/"
        },
        "id": "zq7YbgROZqvZ",
        "outputId": "b187f016-edcb-49d9-80be-f399a1656e7a"
      },
      "execution_count": null,
      "outputs": [
        {
          "output_type": "stream",
          "name": "stdout",
          "text": [
            "Drive already mounted at /content/drive; to attempt to forcibly remount, call drive.mount(\"/content/drive\", force_remount=True).\n"
          ]
        }
      ]
    },
    {
      "cell_type": "code",
      "source": [
        "## load the libraries \n",
        "import tensorflow as tf\n",
        "from tensorflow import keras\n",
        "from keras.layers import Dense, Input, LSTM, Dropout\n",
        "from sklearn.model_selection import train_test_split\n",
        "from keras.callbacks import EarlyStopping, ModelCheckpoint\n",
        "from tensorflow.keras.utils import to_categorical\n",
        "from numpy import argmax, array_equal\n",
        "import matplotlib.pyplot as plt\n",
        "import seaborn as sns\n",
        "from pylab import rcParams\n",
        "from collections import Counter\n",
        "from keras import  Model, models, layers, optimizers, regularizers\n",
        "import pandas as pd\n",
        "import numpy as np\n",
        "import warnings\n",
        "import os\n",
        "from sklearn.preprocessing import LabelEncoder, MinMaxScaler, RobustScaler\n",
        "from sklearn.metrics import classification_report,confusion_matrix, roc_auc_score\n",
        "from tensorflow.keras import layers\n",
        "from itertools import repeat\n",
        "from time import perf_counter\n",
        "from tensorflow.keras.metrics import BinaryAccuracy, AUC\n",
        "from tensorflow.python.client import device_lib\n",
        "from tensorflow.keras.callbacks import ModelCheckpoint\n",
        "from sklearn import metrics\n",
        "from imblearn.over_sampling import SMOTE\n",
        "\n",
        "warnings.filterwarnings('ignore')\n",
        "warnings.filterwarnings(\"ignore\", category=np.VisibleDeprecationWarning) \n",
        "pd.set_option('display.max_columns', None)\n",
        "tf.keras.backend.set_floatx('float32')"
      ],
      "metadata": {
        "id": "hu_fX1941VrP"
      },
      "execution_count": null,
      "outputs": []
    },
    {
      "cell_type": "code",
      "source": [
        "cols = {'obj': [],\n",
        "        'cat': [],\n",
        "       'cont': []\n",
        "        }\n",
        "def data_split():\n",
        "    file_name = 'final_data_v2.csv'\n",
        "    file_path = os.getcwd()+'/drive/MyDrive/Colab Notebooks/'\n",
        "    df = pd.read_csv(file_path+file_name, encoding='utf-8')\n",
        "    df.rename(columns={'category_id_1':'category1'}, inplace=True)\n",
        "\n",
        "    # 데이터 유형별 분류하기\n",
        "    for dt_idx, dt_val in zip(df.dtypes.index, df.dtypes.values):\n",
        "        if dt_val == 'object':\n",
        "            if ('id' in dt_idx) | ('time' in dt_idx) | ('name' in dt_idx) | ('keyword' in dt_idx) |('url' in dt_idx):\n",
        "                df.drop(columns = dt_idx, axis=1, inplace=True)\n",
        "            else:\n",
        "                cols['obj'].append(dt_idx)\n",
        "\n",
        "        else:\n",
        "            if ('id' in dt_idx) | ('time' in dt_idx):\n",
        "                df.drop(columns = dt_idx, axis=1, inplace=True)\n",
        "            else:\n",
        "                if len(df[dt_idx].value_counts()) <= 30: #연속형 데이터 중 30개 내의 범주로 나눌 수 있는 데이터 = category로 구분.\n",
        "                    cols['cat'].append(dt_idx)\n",
        "                else:\n",
        "                    if ('hour' in dt_idx) | ('group' in dt_idx):\n",
        "                        pass\n",
        "                    else:\n",
        "                        cols['cont'].append(dt_idx) \n",
        "\n",
        "    return cols"
      ],
      "metadata": {
        "id": "Q056U55D1aCP"
      },
      "execution_count": null,
      "outputs": []
    },
    {
      "cell_type": "code",
      "source": [
        "def reorganization(df):\n",
        "  data = pd.DataFrame()\n",
        "  cols = data_split()\n",
        "  for k, v in cols.items():\n",
        "    if k == 'obj':\n",
        "      data = pd.concat([data, df[v]], axis=1)\n",
        "    elif k == 'cont':\n",
        "      data = pd.concat([data, df[v]], axis=1)\n",
        "    else:\n",
        "      data = pd.concat([data, df[v]], axis=1)\n",
        "\n",
        "  return data"
      ],
      "metadata": {
        "id": "jF6QBFLW1aPL"
      },
      "execution_count": null,
      "outputs": []
    },
    {
      "cell_type": "code",
      "source": [
        "def preprocessing():\n",
        "    file_name = 'final_data_v2.csv'\n",
        "    file_path = os.getcwd()+'/drive/MyDrive/Colab Notebooks/' \n",
        "    df = pd.read_csv(file_path+file_name, encoding='utf-8')\n",
        "    df.rename(columns={'category_id_1':'category1'}, inplace=True)\n",
        "    \n",
        "    # 데이터 유형별 분류하기\n",
        "    data = reorganization(df)\n",
        "    modified_df = pd.DataFrame()\n",
        "\n",
        "    for i, c in enumerate(data.columns):\n",
        "        if c in cols['obj']:\n",
        "            obj_data = pd.get_dummies(data[c], prefix=c, prefix_sep = \"/\")\n",
        "            modified_df = pd.concat([modified_df, obj_data], axis=1)\n",
        "\n",
        "        elif c in cols['cat']:  # click_label 컬럼 = y 변수로 사용\n",
        "            if 'click' in c:\n",
        "                pass\n",
        "            else:\n",
        "                cat_data = pd.get_dummies(data[c], prefix=c, prefix_sep = \"/\")\n",
        "                modified_df = pd.concat([modified_df, cat_data], axis=1)\n",
        "        else:\n",
        "            scaled_num_data = MinMaxScaler().fit_transform(df[[c]])\n",
        "            scaled_num_data = pd.DataFrame(scaled_num_data, columns = [c])\n",
        "            modified_df = pd.concat([modified_df,scaled_num_data], axis=1)\n",
        "            \n",
        "    print('---- Data info ----')\n",
        "    print(cols)\n",
        "    print('Data Frame shape: {}'.format(modified_df.shape))\n",
        "    \n",
        "    return modified_df"
      ],
      "metadata": {
        "id": "AIbayiWp1aXU"
      },
      "execution_count": null,
      "outputs": []
    },
    {
      "cell_type": "code",
      "source": [
        "# 데이터 7:3으로 나누기 (검증 데이터는 8:2)\n",
        "def split_data():\n",
        "\n",
        "  ### read dataset \n",
        "    file_name = 'final_data_v2.csv'\n",
        "    file_path = os.getcwd()+'/drive/MyDrive/Colab Notebooks/' \n",
        "    df = pd.read_csv(file_path+file_name, encoding='utf-8')\n",
        "    df.rename(columns={'category_id_1':'category1'}, inplace=True)\n",
        "\n",
        "    modified_df = preprocessing()\n",
        "\n",
        "    X = modified_df.values\n",
        "    y = df['click_label'].values\n",
        "  \n",
        "    # split the train/test data (7:3 ratio)\n",
        "    X_train, X_test, y_train, y_test = train_test_split(X, y, test_size = 0.3, random_state = 2022, stratify = y) #y 비율에 따른 층화추출 및 데이터를 7:3의 비율로 나누기\n",
        "    print(f\"# of train_data's rows: {X_train.shape[0]} \\n# of test_data's rows: {X_test.shape[0]}\")\n",
        "    print(f'train:test ratio = {round(X_train.shape[0]/(X_train.shape[0]+ X_test.shape[0]),2)}:{round(X_test.shape[0]/(X_train.shape[0]+ X_test.shape[0]), 2)}')\n",
        "    \n",
        "    oversample = SMOTE(random_state=2022) # 불균형 데이터 셋인 번개장터 데이터 셋 불균형 문제 완화\n",
        "    X_train, y_train = oversample.fit_resample(X_train, y_train)\n",
        "\n",
        "    ## create train and validation datasets (8:2 ratio)\n",
        "    x_train, x_val, y_train, y_val = train_test_split(X_train, y_train, test_size=0.2, random_state = 2022, stratify = y_train)\n",
        "    print(f\"# of train_data's rows: {x_train.shape[0]} \\n# of validation_data's rows: {x_val.shape[0]}\")\n",
        "    print(f'train:test ratio = {round(x_train.shape[0]/(x_train.shape[0]+ x_val.shape[0]),2)}:{round(x_val.shape[0]/(x_train.shape[0]+ x_val.shape[0]), 2)}')\n",
        "   \n",
        "    ## reshape the inputs\n",
        "    x_train = x_train.reshape(-1, x_train.shape[1])\n",
        "    x_val = x_val.reshape(-1, x_val.shape[1])\n",
        "\n",
        "    return x_train, X_test, x_val, y_train, y_test, y_val"
      ],
      "metadata": {
        "id": "zjmkU7A61aeG"
      },
      "execution_count": null,
      "outputs": []
    },
    {
      "cell_type": "code",
      "source": [
        "x_train, X_test, x_val, y_train, y_test, y_val = split_data()"
      ],
      "metadata": {
        "colab": {
          "base_uri": "https://localhost:8080/"
        },
        "id": "ui9r_2jf1akf",
        "outputId": "66527364-5271-4198-9f28-377fc1b60cfc"
      },
      "execution_count": null,
      "outputs": [
        {
          "output_type": "stream",
          "name": "stdout",
          "text": [
            "---- Data info ----\n",
            "{'obj': ['user_gender'], 'cat': ['imp_hour', 'click_label', 'user_age_group', 'flag_used', 'category1', 'emergency_cnt'], 'cont': ['user_age', 'user_following_cnt', 'user_pay_count', 'user_parcel_post_count', 'user_transfer_count', 'user_chat_count', 'price', 'comment_cnt', 'ad_interest', 'ad_pfavcnt', 'adver_favorite_count', 'adver_grade', 'adver_item_count', 'adver_interest', 'adver_review_count', 'adver_comment_count', 'adver_pay_count', 'adver_parcel_post_count', 'adver_transfer_count', 'adver_chat_count']}\n",
            "Data Frame shape: (842463, 101)\n",
            "# of train_data's rows: 589724 \n",
            "# of test_data's rows: 252739\n",
            "train:test ratio = 0.7:0.3\n",
            "# of train_data's rows: 915880 \n",
            "# of validation_data's rows: 228970\n",
            "train:test ratio = 0.8:0.2\n"
          ]
        }
      ]
    },
    {
      "cell_type": "code",
      "source": [
        "# Stacked autoencoder code\n",
        "## input layer\n",
        "input_layer = Input(shape=(x_train.shape[1],))\n",
        "print(f\"input layer's shape: {input_layer.shape}\")\n",
        "\n",
        "## encoding architecture\n",
        "encode_layer1 = Dense(64, activation='relu', kernel_regularizer = 'l2')(input_layer)\n",
        "encode_layer1 = Dropout(0.4)(input_layer)\n",
        "encode_layer2 = Dense(32, activation='relu', kernel_regularizer = 'l2')(encode_layer1)\n",
        "encode_layer2 = Dropout(0.2)(encode_layer1)\n",
        "encode_layer3 = Dense(16, activation='relu', kernel_regularizer = 'l2')(encode_layer2)\n",
        "encode_layer3 = Dropout(0.1)(encode_layer2)\n",
        "\n",
        "## latent view\n",
        "latent_view  = Dense(2, activation='sigmoid')(encode_layer3)\n",
        "\n",
        "## decoding architecture\n",
        "decode_layer1 = Dense(16, activation='relu', kernel_regularizer = 'l2')(latent_view)\n",
        "decode_layer2 = Dense(32, activation='relu', kernel_regularizer = 'l2')(decode_layer1)\n",
        "decode_layer3 = Dense(64, activation='relu', kernel_regularizer = 'l2')(decode_layer2)\n",
        "\n",
        "## output layer\n",
        "output_layer  = Dense(x_train.shape[1])(decode_layer3)\n",
        "print(f\"output layer's shape: {output_layer.shape}\")\n",
        "\n",
        "layer_loss = tf.losses.mean_squared_error(input_layer, output_layer)\n",
        "print(f\"MSE of Autoencoder model: {layer_loss}\")\n",
        "\n",
        "model = Model(input_layer, output_layer)\n",
        "print(model.summary())"
      ],
      "metadata": {
        "colab": {
          "base_uri": "https://localhost:8080/"
        },
        "id": "8-xgTF4O10DI",
        "outputId": "568effe5-1e5c-411e-8c66-b2ac074a5d91"
      },
      "execution_count": null,
      "outputs": [
        {
          "output_type": "stream",
          "name": "stdout",
          "text": [
            "input layer's shape: (None, 101)\n",
            "output layer's shape: (None, 101)\n",
            "MSE of Autoencoder model: KerasTensor(type_spec=TensorSpec(shape=(None,), dtype=tf.float32, name=None), name='tf.math.reduce_mean/Mean:0', description=\"created by layer 'tf.math.reduce_mean'\")\n",
            "Model: \"model\"\n",
            "_________________________________________________________________\n",
            " Layer (type)                Output Shape              Param #   \n",
            "=================================================================\n",
            " input_1 (InputLayer)        [(None, 101)]             0         \n",
            "                                                                 \n",
            " dropout (Dropout)           (None, 101)               0         \n",
            "                                                                 \n",
            " dropout_1 (Dropout)         (None, 101)               0         \n",
            "                                                                 \n",
            " dropout_2 (Dropout)         (None, 101)               0         \n",
            "                                                                 \n",
            " dense_3 (Dense)             (None, 2)                 204       \n",
            "                                                                 \n",
            " dense_4 (Dense)             (None, 16)                48        \n",
            "                                                                 \n",
            " dense_5 (Dense)             (None, 32)                544       \n",
            "                                                                 \n",
            " dense_6 (Dense)             (None, 64)                2112      \n",
            "                                                                 \n",
            " dense_7 (Dense)             (None, 101)               6565      \n",
            "                                                                 \n",
            "=================================================================\n",
            "Total params: 9,473\n",
            "Trainable params: 9,473\n",
            "Non-trainable params: 0\n",
            "_________________________________________________________________\n",
            "None\n"
          ]
        }
      ]
    },
    {
      "cell_type": "code",
      "source": [
        "# 드롭아웃을 encoding에 시켰을 때\n",
        "# patience: patience 는 성능이 증가하지 않는 epoch 을 몇 번이나 허용할 것인가를 정의\n",
        "\n",
        "learning_rate = 0.01\n",
        "optimizer = keras.optimizers.Adam(learning_rate=learning_rate)\n",
        "model.compile(optimizer=optimizer, loss = 'binary_crossentropy', metrics = ['binary_accuracy'])\n",
        "early_stopping = EarlyStopping(monitor='val_loss', min_delta=0, patience=5, verbose=1, mode='auto') #mode = 'auto or min'\n",
        "start = perf_counter()\n",
        "history = model.fit(x_train, y_train, epochs=150, batch_size=512, validation_data=(x_val, y_val), callbacks=[early_stopping])\n",
        "print(\"End of Training\")\n",
        "print(\"걸린 시간: {:g}분 {:.2f}초\".format((perf_counter() - start)//60, round((perf_counter() - start)%60)))"
      ],
      "metadata": {
        "colab": {
          "base_uri": "https://localhost:8080/"
        },
        "id": "2RLVBYRx10MP",
        "outputId": "0caf6c2d-0579-427c-8573-871cffb81ce8"
      },
      "execution_count": null,
      "outputs": [
        {
          "output_type": "stream",
          "name": "stdout",
          "text": [
            "Epoch 1/150\n",
            "1789/1789 [==============================] - 17s 9ms/step - loss: 0.9443 - binary_accuracy: 0.6027 - val_loss: 0.9282 - val_binary_accuracy: 0.6306\n",
            "Epoch 2/150\n",
            "1789/1789 [==============================] - 18s 10ms/step - loss: 0.9440 - binary_accuracy: 0.6030 - val_loss: 0.9283 - val_binary_accuracy: 0.6318\n",
            "Epoch 3/150\n",
            "1789/1789 [==============================] - 16s 9ms/step - loss: 0.9436 - binary_accuracy: 0.6041 - val_loss: 0.9252 - val_binary_accuracy: 0.6358\n",
            "Epoch 4/150\n",
            "1789/1789 [==============================] - 20s 11ms/step - loss: 0.9431 - binary_accuracy: 0.6050 - val_loss: 0.9239 - val_binary_accuracy: 0.6365\n",
            "Epoch 5/150\n",
            "1789/1789 [==============================] - 16s 9ms/step - loss: 0.9429 - binary_accuracy: 0.6045 - val_loss: 0.9255 - val_binary_accuracy: 0.6360\n",
            "Epoch 6/150\n",
            "1789/1789 [==============================] - 16s 9ms/step - loss: 0.9428 - binary_accuracy: 0.6047 - val_loss: 0.9245 - val_binary_accuracy: 0.6332\n",
            "Epoch 7/150\n",
            "1789/1789 [==============================] - 17s 9ms/step - loss: 0.9427 - binary_accuracy: 0.6053 - val_loss: 0.9265 - val_binary_accuracy: 0.6394\n",
            "Epoch 8/150\n",
            "1789/1789 [==============================] - 17s 9ms/step - loss: 0.9424 - binary_accuracy: 0.6056 - val_loss: 0.9255 - val_binary_accuracy: 0.6380\n",
            "Epoch 9/150\n",
            "1789/1789 [==============================] - 16s 9ms/step - loss: 0.9427 - binary_accuracy: 0.6048 - val_loss: 0.9246 - val_binary_accuracy: 0.6355\n",
            "Epoch 00009: early stopping\n",
            "End of Training\n",
            "걸린 시간: 2분 33.00초\n"
          ]
        }
      ]
    },
    {
      "cell_type": "code",
      "source": [
        "loss, accuracy = model.evaluate(X_test, y_test)\n",
        "print(\"테스트 데이터 정확도\", accuracy)"
      ],
      "metadata": {
        "colab": {
          "base_uri": "https://localhost:8080/"
        },
        "id": "EQMXtPoA10SN",
        "outputId": "666fa0fa-50ca-4c27-f5ce-222900023306"
      },
      "execution_count": null,
      "outputs": [
        {
          "output_type": "stream",
          "name": "stdout",
          "text": [
            "7899/7899 [==============================] - 13s 2ms/step - loss: 0.6679 - binary_accuracy: 0.5049\n",
            "테스트 데이터 정확도 0.5048971176147461\n"
          ]
        }
      ]
    },
    {
      "cell_type": "code",
      "source": [
        "loss, accuracy = model.evaluate(x_val, y_val)\n",
        "print(\"검증 데이터 정확도\", accuracy)"
      ],
      "metadata": {
        "colab": {
          "base_uri": "https://localhost:8080/"
        },
        "id": "McKzJO_a10Wk",
        "outputId": "5f0dd422-9de8-4e41-e787-e6f76eea3d0d"
      },
      "execution_count": null,
      "outputs": [
        {
          "output_type": "stream",
          "name": "stdout",
          "text": [
            "7156/7156 [==============================] - 11s 2ms/step - loss: 0.9247 - binary_accuracy: 0.6355\n",
            "검증 데이터 정확도 0.6354725360870361\n"
          ]
        }
      ]
    },
    {
      "cell_type": "code",
      "source": [
        "# validation data confusion matrix\n",
        "preds = model.predict(x_val, batch_size=512)\n",
        "preds_val = tf.argmax(preds, axis=-1)\n",
        "label_val = tf.reshape(y_val, [-1])\n",
        "cm_val = tf.math.confusion_matrix(label_val, preds_val)\n",
        "print(classification_report(label_val, preds_val))"
      ],
      "metadata": {
        "colab": {
          "base_uri": "https://localhost:8080/"
        },
        "id": "ZfvhUo5O10bO",
        "outputId": "312e4ff3-3d34-4090-f001-c814f9be0b46"
      },
      "execution_count": null,
      "outputs": [
        {
          "output_type": "stream",
          "name": "stdout",
          "text": [
            "              precision    recall  f1-score   support\n",
            "\n",
            "           0       0.50      1.00      0.67    114485\n",
            "           1       0.00      0.00      0.00    114485\n",
            "\n",
            "    accuracy                           0.50    228970\n",
            "   macro avg       0.25      0.50      0.33    228970\n",
            "weighted avg       0.25      0.50      0.33    228970\n",
            "\n"
          ]
        }
      ]
    },
    {
      "cell_type": "code",
      "source": [
        "# test data confusion matrix (최종 결과용)\n",
        "preds_te = model.predict(X_test, batch_size=512)\n",
        "preds_te = tf.argmax(preds_te, axis=-1)\n",
        "label_te = tf.reshape(y_test, [-1])\n",
        "cm_te = tf.math.confusion_matrix(label_te, preds_te)\n",
        "print(classification_report(label_te, preds_te))"
      ],
      "metadata": {
        "colab": {
          "base_uri": "https://localhost:8080/"
        },
        "id": "zWRrcbjt10ea",
        "outputId": "f2081df7-cbee-4716-9d43-1ab75eac3dfa"
      },
      "execution_count": null,
      "outputs": [
        {
          "output_type": "stream",
          "name": "stdout",
          "text": [
            "              precision    recall  f1-score   support\n",
            "\n",
            "           0       0.97      1.00      0.99    245325\n",
            "           1       0.00      0.00      0.00      7414\n",
            "\n",
            "    accuracy                           0.97    252739\n",
            "   macro avg       0.49      0.50      0.49    252739\n",
            "weighted avg       0.94      0.97      0.96    252739\n",
            "\n"
          ]
        }
      ]
    },
    {
      "cell_type": "code",
      "source": [
        "cm_val"
      ],
      "metadata": {
        "colab": {
          "base_uri": "https://localhost:8080/"
        },
        "id": "wiNn_iZw_dSf",
        "outputId": "6a9d740d-c1e7-4d6e-cd1a-ea2046c8b8e7"
      },
      "execution_count": null,
      "outputs": [
        {
          "output_type": "execute_result",
          "data": {
            "text/plain": [
              "<tf.Tensor: shape=(2, 2), dtype=int32, numpy=\n",
              "array([[114485,      0],\n",
              "       [114485,      0]], dtype=int32)>"
            ]
          },
          "metadata": {},
          "execution_count": 16
        }
      ]
    },
    {
      "cell_type": "code",
      "source": [
        "cm_te"
      ],
      "metadata": {
        "colab": {
          "base_uri": "https://localhost:8080/"
        },
        "id": "2N8qbOO9645u",
        "outputId": "b279a794-1cdb-4cb8-8495-692ebec20021"
      },
      "execution_count": null,
      "outputs": [
        {
          "output_type": "execute_result",
          "data": {
            "text/plain": [
              "<tf.Tensor: shape=(2, 2), dtype=int32, numpy=\n",
              "array([[245325,      0],\n",
              "       [  7414,      0]], dtype=int32)>"
            ]
          },
          "metadata": {},
          "execution_count": 15
        }
      ]
    },
    {
      "cell_type": "code",
      "source": [
        "sns.heatmap(cm_val, annot=True, )\n",
        "plt.show()"
      ],
      "metadata": {
        "colab": {
          "base_uri": "https://localhost:8080/",
          "height": 265
        },
        "id": "W79t25qd10ip",
        "outputId": "3a4aed30-23cf-407f-e15c-138c94a637a1"
      },
      "execution_count": null,
      "outputs": [
        {
          "output_type": "display_data",
          "data": {
            "image/png": "[encoded data removed]",
            "text/plain": [
              "<Figure size 432x288 with 2 Axes>"
            ]
          },
          "metadata": {
            "needs_background": "light"
          }
        }
      ]
    },
    {
      "cell_type": "code",
      "source": [
        "sns.heatmap(cm_te, annot=True, cmap='Pastel1', fmt= 'g')\n",
        "plt.title('Confusion Matrix', fontsize=15)\n",
        "plt.xlabel('Predicted', fontsize=10)\n",
        "plt.ylabel('Actual', fontsize=10)\n",
        "plt.tight_layout()\n",
        "plt.show()"
      ],
      "metadata": {
        "colab": {
          "base_uri": "https://localhost:8080/",
          "height": 297
        },
        "id": "Hvoc_nH03aiO",
        "outputId": "c312e0f5-4020-417c-b88a-1adcc2d3a196"
      },
      "execution_count": null,
      "outputs": [
        {
          "output_type": "display_data",
          "data": {
            "image/png": "[encoded data removed]",
            "text/plain": [
              "<Figure size 432x288 with 2 Axes>"
            ]
          },
          "metadata": {
            "needs_background": "light"
          }
        }
      ]
    },
    {
      "cell_type": "code",
      "source": [
        "pd.Series(preds_te.numpy()).unique()"
      ],
      "metadata": {
        "colab": {
          "base_uri": "https://localhost:8080/"
        },
        "id": "AhBeljyDAoFn",
        "outputId": "5440b3d5-54d5-49da-ab82-b14d1ff12a8b"
      },
      "execution_count": null,
      "outputs": [
        {
          "output_type": "execute_result",
          "data": {
            "text/plain": [
              "array([0])"
            ]
          },
          "metadata": {},
          "execution_count": 29
        }
      ]
    },
    {
      "cell_type": "code",
      "source": [
        "plt.figure(figsize=(10, 8))\n",
        "sns.lineplot(data= pd.DataFrame(history.history)[['binary_accuracy', 'val_binary_accuracy']])\n",
        "plt.grid(True)\n",
        "plt.gca().set_ylim(0.6, 0.645)\n",
        "plt.xlabel('Epoch', fontsize=15)\n",
        "plt.title('Training with validation data about accuracy value (Batch size = 512)', fontsize=15)\n",
        "plt.show()"
      ],
      "metadata": {
        "colab": {
          "base_uri": "https://localhost:8080/",
          "height": 520
        },
        "id": "N2F4N5aD3x5s",
        "outputId": "30c50df8-1848-4677-f1f6-1f26ccafa6fb"
      },
      "execution_count": null,
      "outputs": [
        {
          "output_type": "display_data",
          "data": {
            "image/png": "[encoded data removed]",
            "text/plain": [
              "<Figure size 720x576 with 1 Axes>"
            ]
          },
          "metadata": {
            "needs_background": "light"
          }
        }
      ]
    },
    {
      "cell_type": "code",
      "source": [
        "plt.figure(figsize=(10, 8))\n",
        "sns.lineplot(data= pd.DataFrame(history.history)[['loss', 'val_loss']])\n",
        "plt.grid(True)\n",
        "plt.gca().set_ylim(0.92, 0.945)\n",
        "plt.xlabel('Epoch', fontsize=15)\n",
        "plt.title('Training with validation data about accuracy value (Batch size = 512)', fontsize=15)\n",
        "plt.show()"
      ],
      "metadata": {
        "colab": {
          "base_uri": "https://localhost:8080/",
          "height": 520
        },
        "id": "mDqMNa3E_zfF",
        "outputId": "2d3526fd-5fc0-4bef-8f39-7db1be447ada"
      },
      "execution_count": null,
      "outputs": [
        {
          "output_type": "display_data",
          "data": {
            "image/png": "[encoded data removed]",
            "text/plain": [
              "<Figure size 720x576 with 1 Axes>"
            ]
          },
          "metadata": {
            "needs_background": "light"
          }
        }
      ]
    },
    {
      "cell_type": "code",
      "source": [
        "cols = {'obj': [],\n",
        "        'cat': [],\n",
        "       'cont': []\n",
        "        }\n",
        "def data_split():\n",
        "    file_name = 'final_data_v2.csv'\n",
        "    file_path = os.getcwd()+'/drive/MyDrive/Colab Notebooks/'\n",
        "    df = pd.read_csv(file_path+file_name, encoding='utf-8')\n",
        "    df.rename(columns={'category_id_1':'category1'}, inplace=True)\n",
        "\n",
        "    # 데이터 유형별 분류하기\n",
        "    for dt_idx, dt_val in zip(df.dtypes.index, df.dtypes.values):\n",
        "        if dt_val == 'object':\n",
        "            if ('id' in dt_idx) | ('time' in dt_idx) | ('name' in dt_idx) | ('keyword' in dt_idx) |('url' in dt_idx):\n",
        "                df.drop(columns = dt_idx, axis=1, inplace=True)\n",
        "            else:\n",
        "                cols['obj'].append(dt_idx)\n",
        "\n",
        "        else:\n",
        "            if ('id' in dt_idx) | ('time' in dt_idx):\n",
        "                df.drop(columns = dt_idx, axis=1, inplace=True)\n",
        "            else:\n",
        "                if len(df[dt_idx].value_counts()) <= 30: #연속형 데이터 중 30개 내의 범주로 나눌 수 있는 데이터 = category로 구분.\n",
        "                    cols['cat'].append(dt_idx)\n",
        "                else:\n",
        "                    if ('hour' in dt_idx) | ('group' in dt_idx):\n",
        "                        pass\n",
        "                    else:\n",
        "                        cols['cont'].append(dt_idx) \n",
        "\n",
        "    return cols"
      ],
      "metadata": {
        "id": "Bk7HJOX0FfCc"
      },
      "execution_count": null,
      "outputs": []
    },
    {
      "cell_type": "code",
      "source": [
        "def reorganization(df):\n",
        "  data = pd.DataFrame()\n",
        "  cols = data_split()\n",
        "  for k, v in cols.items():\n",
        "    if k == 'obj':\n",
        "      data = pd.concat([data, df[v]], axis=1)\n",
        "    elif k == 'cont':\n",
        "      data = pd.concat([data, df[v]], axis=1)\n",
        "    else:\n",
        "      data = pd.concat([data, df[v]], axis=1)\n",
        "\n",
        "  return data"
      ],
      "metadata": {
        "id": "wyaTsL4fFfCe"
      },
      "execution_count": null,
      "outputs": []
    },
    {
      "cell_type": "code",
      "source": [
        "def preprocessing():\n",
        "    file_name = 'final_data_v2.csv'\n",
        "    file_path = os.getcwd()+'/drive/MyDrive/Colab Notebooks/' \n",
        "    df = pd.read_csv(file_path+file_name, encoding='utf-8')\n",
        "    df.rename(columns={'category_id_1':'category1'}, inplace=True)\n",
        "    \n",
        "    # 데이터 유형별 분류하기\n",
        "    data = reorganization(df)\n",
        "    modified_df = pd.DataFrame()\n",
        "\n",
        "    for i, c in enumerate(data.columns):\n",
        "        if c in cols['obj']:\n",
        "            obj_data = pd.get_dummies(data[c], prefix=c, prefix_sep = \"/\")\n",
        "            modified_df = pd.concat([modified_df, obj_data], axis=1)\n",
        "\n",
        "        elif c in cols['cat']:  # click_label 컬럼 = y 변수로 사용\n",
        "            if 'click' in c:\n",
        "                pass\n",
        "            else:\n",
        "                cat_data = pd.get_dummies(data[c], prefix=c, prefix_sep = \"/\")\n",
        "                modified_df = pd.concat([modified_df, cat_data], axis=1)\n",
        "        else:\n",
        "            scaled_num_data = MinMaxScaler().fit_transform(df[[c]])\n",
        "            scaled_num_data = pd.DataFrame(scaled_num_data, columns = [c])\n",
        "            modified_df = pd.concat([modified_df,scaled_num_data], axis=1)\n",
        "            \n",
        "    print('---- Data info ----')\n",
        "    print(cols)\n",
        "    print('Data Frame shape: {}'.format(modified_df.shape))\n",
        "    \n",
        "    return modified_df"
      ],
      "metadata": {
        "id": "X7lgFGOVFfCe"
      },
      "execution_count": null,
      "outputs": []
    },
    {
      "cell_type": "code",
      "source": [
        "# 데이터 7:3으로 나누기 (검증 데이터는 8:2)\n",
        "def split_data():\n",
        "\n",
        "  ### read dataset \n",
        "    file_name = 'final_data_v2.csv'\n",
        "    file_path = os.getcwd()+'/drive/MyDrive/Colab Notebooks/' \n",
        "    df = pd.read_csv(file_path+file_name, encoding='utf-8')\n",
        "    df.rename(columns={'category_id_1':'category1'}, inplace=True)\n",
        "\n",
        "    modified_df = preprocessing()\n",
        "\n",
        "    X = modified_df.values\n",
        "    y = df['click_label'].values\n",
        "  \n",
        "    # split the train/test data (7:3 ratio)\n",
        "    X_train, X_test, y_train, y_test = train_test_split(X, y, test_size = 0.3, random_state = 2022, stratify = y) #y 비율에 따른 층화추출 및 데이터를 7:3의 비율로 나누기\n",
        "    print(f\"# of train_data's rows: {X_train.shape[0]} \\n# of test_data's rows: {X_test.shape[0]}\")\n",
        "    print(f'train:test ratio = {round(X_train.shape[0]/(X_train.shape[0]+ X_test.shape[0]),2)}:{round(X_test.shape[0]/(X_train.shape[0]+ X_test.shape[0]), 2)}')\n",
        "\n",
        "    ## create train and validation datasets (8:2 ratio)\n",
        "    x_train, x_val, y_train, y_val = train_test_split(X_train, y_train, test_size=0.2, random_state = 2022, stratify = y_train)\n",
        "    print(f\"# of train_data's rows: {x_train.shape[0]} \\n# of validation_data's rows: {x_val.shape[0]}\")\n",
        "    print(f'train:test ratio = {round(x_train.shape[0]/(x_train.shape[0]+ x_val.shape[0]),2)}:{round(x_val.shape[0]/(x_train.shape[0]+ x_val.shape[0]), 2)}')\n",
        "   \n",
        "    ## reshape the inputs\n",
        "    x_train = x_train.reshape(-1, x_train.shape[1])\n",
        "    x_val = x_val.reshape(-1, x_val.shape[1])\n",
        "\n",
        "    return x_train, X_test, x_val, y_train, y_test, y_val"
      ],
      "metadata": {
        "id": "L72jzA9aFfCe"
      },
      "execution_count": null,
      "outputs": []
    },
    {
      "cell_type": "code",
      "source": [
        "x_train, X_test, x_val, y_train, y_test, y_val = split_data()"
      ],
      "metadata": {
        "colab": {
          "base_uri": "https://localhost:8080/"
        },
        "outputId": "4ef32994-09b9-4cc9-9561-f30da0a1b429",
        "id": "DkL2HssYFfCf"
      },
      "execution_count": null,
      "outputs": [
        {
          "output_type": "stream",
          "name": "stdout",
          "text": [
            "---- Data info ----\n",
            "{'obj': ['user_gender'], 'cat': ['imp_hour', 'click_label', 'user_age_group', 'flag_used', 'category1', 'emergency_cnt'], 'cont': ['user_age', 'user_following_cnt', 'user_pay_count', 'user_parcel_post_count', 'user_transfer_count', 'user_chat_count', 'price', 'comment_cnt', 'ad_interest', 'ad_pfavcnt', 'adver_favorite_count', 'adver_grade', 'adver_item_count', 'adver_interest', 'adver_review_count', 'adver_comment_count', 'adver_pay_count', 'adver_parcel_post_count', 'adver_transfer_count', 'adver_chat_count']}\n",
            "Data Frame shape: (842463, 101)\n",
            "# of train_data's rows: 589724 \n",
            "# of test_data's rows: 252739\n",
            "train:test ratio = 0.7:0.3\n",
            "# of train_data's rows: 471779 \n",
            "# of validation_data's rows: 117945\n",
            "train:test ratio = 0.8:0.2\n"
          ]
        }
      ]
    },
    {
      "cell_type": "code",
      "source": [
        "# Stacked autoencoder code\n",
        "## input layer\n",
        "input_layer = Input(shape=(x_train.shape[1],))\n",
        "print(f\"input layer's shape: {input_layer.shape}\")\n",
        "\n",
        "## encoding architecture\n",
        "encode_layer1 = Dense(64, activation='relu', activity_regularizer = 'l2')(input_layer)\n",
        "encode_layer1 = Dropout(0.4)(input_layer)\n",
        "encode_layer2 = Dense(32, activation='relu', activity_regularizer = 'l2')(encode_layer1)\n",
        "encode_layer2 = Dropout(0.2)(encode_layer1)\n",
        "encode_layer3 = Dense(16, activation='relu', activity_regularizer = 'l2')(encode_layer2)\n",
        "encode_layer3 = Dropout(0.1)(encode_layer2)\n",
        "\n",
        "## latent view\n",
        "latent_view  = Dense(2, activation='sigmoid')(encode_layer3)\n",
        "\n",
        "## decoding architecture\n",
        "decode_layer1 = Dense(16, activation='relu', activity_regularizer = 'l2')(latent_view)\n",
        "decode_layer1 = Dropout(0.4)(latent_view)\n",
        "decode_layer2 = Dense(32, activation='relu', activity_regularizer = 'l2')(decode_layer1)\n",
        "decode_layer3 = Dense(64, activation='relu', activity_regularizer = 'l2')(decode_layer2)\n",
        "\n",
        "## output layer\n",
        "output_layer  = Dense(x_train.shape[1])(decode_layer3)\n",
        "print(f\"output layer's shape: {output_layer.shape}\")\n",
        "\n",
        "layer_loss = tf.losses.mean_squared_error(input_layer, output_layer)\n",
        "print(f\"MSE of Autoencoder model: {layer_loss}\")\n",
        "\n",
        "model = tf.keras.Model(input_layer, output_layer)\n",
        "print(model.summary())"
      ],
      "metadata": {
        "colab": {
          "base_uri": "https://localhost:8080/"
        },
        "outputId": "4a02d1f7-3ba6-40ad-baae-9b9341b5c9ab",
        "id": "Kgv9ShipFfCf"
      },
      "execution_count": null,
      "outputs": [
        {
          "output_type": "stream",
          "name": "stdout",
          "text": [
            "input layer's shape: (None, 101)\n",
            "output layer's shape: (None, 101)\n",
            "MSE of Autoencoder model: KerasTensor(type_spec=TensorSpec(shape=(None,), dtype=tf.float32, name=None), name='tf.math.reduce_mean_1/Mean:0', description=\"created by layer 'tf.math.reduce_mean_1'\")\n",
            "Model: \"model_1\"\n",
            "_________________________________________________________________\n",
            " Layer (type)                Output Shape              Param #   \n",
            "=================================================================\n",
            " input_2 (InputLayer)        [(None, 101)]             0         \n",
            "                                                                 \n",
            " dropout_3 (Dropout)         (None, 101)               0         \n",
            "                                                                 \n",
            " dropout_4 (Dropout)         (None, 101)               0         \n",
            "                                                                 \n",
            " dropout_5 (Dropout)         (None, 101)               0         \n",
            "                                                                 \n",
            " dense_11 (Dense)            (None, 2)                 204       \n",
            "                                                                 \n",
            " dropout_6 (Dropout)         (None, 2)                 0         \n",
            "                                                                 \n",
            " dense_13 (Dense)            (None, 32)                96        \n",
            "                                                                 \n",
            " dense_14 (Dense)            (None, 64)                2112      \n",
            "                                                                 \n",
            " dense_15 (Dense)            (None, 101)               6565      \n",
            "                                                                 \n",
            "=================================================================\n",
            "Total params: 8,977\n",
            "Trainable params: 8,977\n",
            "Non-trainable params: 0\n",
            "_________________________________________________________________\n",
            "None\n"
          ]
        }
      ]
    },
    {
      "cell_type": "code",
      "source": [
        "# 드롭아웃을 encoding에 시켰을 때\n",
        "# patience: patience 는 성능이 증가하지 않는 epoch 을 몇 번이나 허용할 것인가를 정의\n",
        "\n",
        "learning_rate = 0.01\n",
        "optimizer = keras.optimizers.Adam(learning_rate=learning_rate)\n",
        "model.compile(optimizer=optimizer, loss = 'binary_crossentropy', metrics = ['binary_accuracy'])\n",
        "early_stopping = EarlyStopping(monitor='val_loss', min_delta=0, patience=5, verbose=1, mode='auto') \n",
        "start = perf_counter()\n",
        "history = model.fit(x_train, y_train, epochs=200, batch_size=512, validation_data=(x_val, y_val), callbacks=[early_stopping])\n",
        "print(\"End of Training\")\n",
        "print(\"걸린 시간: {:g}분 {:.2f}초\".format((perf_counter() - start)//60, round((perf_counter() - start)%60)))"
      ],
      "metadata": {
        "colab": {
          "base_uri": "https://localhost:8080/"
        },
        "outputId": "4131a133-b0af-48d1-cf1c-89af03adb730",
        "id": "C_OjWsQOGFNH"
      },
      "execution_count": null,
      "outputs": [
        {
          "output_type": "stream",
          "name": "stdout",
          "text": [
            "Epoch 1/200\n",
            "922/922 [==============================] - 5s 5ms/step - loss: 0.1914 - binary_accuracy: 0.9707 - val_loss: 0.1901 - val_binary_accuracy: 0.9707\n",
            "Epoch 2/200\n",
            "922/922 [==============================] - 4s 5ms/step - loss: 0.1899 - binary_accuracy: 0.9707 - val_loss: 0.1895 - val_binary_accuracy: 0.9707\n",
            "Epoch 3/200\n",
            "922/922 [==============================] - 4s 5ms/step - loss: 0.1900 - binary_accuracy: 0.9707 - val_loss: 0.1895 - val_binary_accuracy: 0.9707\n",
            "Epoch 4/200\n",
            "922/922 [==============================] - 4s 5ms/step - loss: 0.1898 - binary_accuracy: 0.9707 - val_loss: 0.1895 - val_binary_accuracy: 0.9707\n",
            "Epoch 5/200\n",
            "922/922 [==============================] - 5s 5ms/step - loss: 0.1898 - binary_accuracy: 0.9707 - val_loss: 0.1913 - val_binary_accuracy: 0.9707\n",
            "Epoch 6/200\n",
            "922/922 [==============================] - 4s 5ms/step - loss: 0.1899 - binary_accuracy: 0.9707 - val_loss: 0.1898 - val_binary_accuracy: 0.9707\n",
            "Epoch 7/200\n",
            "922/922 [==============================] - 4s 5ms/step - loss: 0.1898 - binary_accuracy: 0.9707 - val_loss: 0.1895 - val_binary_accuracy: 0.9707\n",
            "Epoch 8/200\n",
            "922/922 [==============================] - 4s 5ms/step - loss: 0.1898 - binary_accuracy: 0.9707 - val_loss: 0.1917 - val_binary_accuracy: 0.9707\n",
            "Epoch 9/200\n",
            "922/922 [==============================] - 4s 5ms/step - loss: 0.1900 - binary_accuracy: 0.9707 - val_loss: 0.1896 - val_binary_accuracy: 0.9707\n",
            "Epoch 00009: early stopping\n",
            "End of Training\n",
            "걸린 시간: 0분 41.00초\n"
          ]
        }
      ]
    },
    {
      "cell_type": "code",
      "source": [
        "loss, accuracy = model.evaluate(X_test, y_test)\n",
        "print(\"테스트 데이터 정확도\", accuracy)"
      ],
      "metadata": {
        "colab": {
          "base_uri": "https://localhost:8080/"
        },
        "outputId": "d7f68ceb-e155-474d-bf57-c7a09091bf47",
        "id": "DQ4xt4KgGFNQ"
      },
      "execution_count": null,
      "outputs": [
        {
          "output_type": "stream",
          "name": "stdout",
          "text": [
            "7899/7899 [==============================] - 21s 3ms/step - loss: 0.1896 - binary_accuracy: 0.9707\n",
            "테스트 데이터 정확도 0.9706653952598572\n"
          ]
        }
      ]
    },
    {
      "cell_type": "code",
      "source": [
        "loss, accuracy = model.evaluate(x_val, y_val)\n",
        "print(\"검증 데이터 정확도\", accuracy)"
      ],
      "metadata": {
        "colab": {
          "base_uri": "https://localhost:8080/"
        },
        "outputId": "fb35f762-86fe-4443-a45a-c5d46640b873",
        "id": "CJO3ICOjGFNQ"
      },
      "execution_count": null,
      "outputs": [
        {
          "output_type": "stream",
          "name": "stdout",
          "text": [
            "3686/3686 [==============================] - 10s 3ms/step - loss: 0.1896 - binary_accuracy: 0.9707\n",
            "검증 데이터 정확도 0.9706643223762512\n"
          ]
        }
      ]
    },
    {
      "cell_type": "code",
      "source": [
        "plt.figure(figsize=(10, 8))\n",
        "sns.lineplot(data= pd.DataFrame(history.history)[['loss', 'val_loss']])\n",
        "plt.grid(True)\n",
        "plt.gca().set_ylim(0.189, 0.192)\n",
        "plt.xlabel('Epoch', fontsize=15)\n",
        "plt.title('Training with validation data about loss value (Batch size = 512)', fontsize=15)\n",
        "plt.show()"
      ],
      "metadata": {
        "colab": {
          "base_uri": "https://localhost:8080/",
          "height": 520
        },
        "id": "1QvPq5qvdQbT",
        "outputId": "0f792cde-d63e-46e8-c244-c0ee23bd700f"
      },
      "execution_count": null,
      "outputs": [
        {
          "output_type": "display_data",
          "data": {
            "image/png": "[encoded data removed]",
            "text/plain": [
              "<Figure size 720x576 with 1 Axes>"
            ]
          },
          "metadata": {
            "needs_background": "light"
          }
        }
      ]
    },
    {
      "cell_type": "code",
      "source": [
        "cols = {'obj': [],\n",
        "        'cat': [],\n",
        "       'cont': []\n",
        "        }\n",
        "def data_split():\n",
        "    file_name = 'final_data_v2.csv'\n",
        "    file_path = os.getcwd()+'/drive/MyDrive/Colab Notebooks/'\n",
        "    df = pd.read_csv(file_path+file_name, encoding='utf-8')\n",
        "    df.rename(columns={'category_id_1':'category1'}, inplace=True)\n",
        "\n",
        "    # 데이터 유형별 분류하기\n",
        "    for dt_idx, dt_val in zip(df.dtypes.index, df.dtypes.values):\n",
        "        if dt_val == 'object':\n",
        "            if ('id' in dt_idx) | ('time' in dt_idx) | ('name' in dt_idx) | ('keyword' in dt_idx) |('url' in dt_idx):\n",
        "                df.drop(columns = dt_idx, axis=1, inplace=True)\n",
        "            else:\n",
        "                cols['obj'].append(dt_idx)\n",
        "\n",
        "        else:\n",
        "            if ('id' in dt_idx) | ('time' in dt_idx):\n",
        "                df.drop(columns = dt_idx, axis=1, inplace=True)\n",
        "            else:\n",
        "                if len(df[dt_idx].value_counts()) <= 30: #연속형 데이터 중 30개 내의 범주로 나눌 수 있는 데이터 = category로 구분.\n",
        "                    cols['cat'].append(dt_idx)\n",
        "                else:\n",
        "                    if ('hour' in dt_idx) | ('group' in dt_idx):\n",
        "                        pass\n",
        "                    else:\n",
        "                        cols['cont'].append(dt_idx) \n",
        "\n",
        "    return cols"
      ],
      "metadata": {
        "id": "LSVwGkMrnPdk"
      },
      "execution_count": null,
      "outputs": []
    },
    {
      "cell_type": "code",
      "source": [
        "def reorganization(df):\n",
        "  data = pd.DataFrame()\n",
        "  cols = data_split()\n",
        "  for k, v in cols.items():\n",
        "    if k == 'obj':\n",
        "      data = pd.concat([data, df[v]], axis=1)\n",
        "    elif k == 'cont':\n",
        "      data = pd.concat([data, df[v]], axis=1)\n",
        "    else:\n",
        "      data = pd.concat([data, df[v]], axis=1)\n",
        "\n",
        "  return data"
      ],
      "metadata": {
        "id": "2ourol6NnPdt"
      },
      "execution_count": null,
      "outputs": []
    },
    {
      "cell_type": "code",
      "source": [
        "# 데이터 7:3으로 나누기 (검증 데이터는 8:2)\n",
        "def split_data():\n",
        "\n",
        "  ### read dataset \n",
        "    file_name = 'final_data_v2.csv'\n",
        "    file_path = os.getcwd()+'/drive/MyDrive/Colab Notebooks/' \n",
        "    df = pd.read_csv(file_path+file_name, encoding='utf-8')\n",
        "    df.rename(columns={'category_id_1':'category1'}, inplace=True)\n",
        "\n",
        "    modified_df = preprocessing()\n",
        "\n",
        "    X = modified_df\n",
        "    y = df['click_label']\n",
        "\n",
        "    # split the train/test data (7:3 ratio)\n",
        "    X_train, X_test, y_train, y_test = train_test_split(X, y, test_size = 0.3, random_state = 2022, stratify = y) #y 비율에 따른 층화추출 및 데이터를 7:3의 비율로 나누기\n",
        "    print(f\"# of train_data's rows: {X_train.shape[0]} \\n# of test_data's rows: {X_test.shape[0]}\")\n",
        "    print(f'train:test ratio = {round(X_train.shape[0]/(X_train.shape[0]+ X_test.shape[0]),2)}:{round(X_test.shape[0]/(X_train.shape[0]+ X_test.shape[0]), 2)}')\n",
        "    \n",
        "    ## create train and validation datasets (8:2 ratio)\n",
        "    x_train, x_val, y_train, y_val = train_test_split(X_train, y_train, test_size=0.2, random_state = 2022, stratify = y_train)\n",
        "    print(f\"# of train_data's rows: {x_train.shape[0]} \\n# of validation_data's rows: {x_val.shape[0]}\")\n",
        "    print(f'train:test ratio = {round(x_train.shape[0]/(x_train.shape[0]+ x_val.shape[0]),2)}:{round(x_val.shape[0]/(x_train.shape[0]+ x_val.shape[0]), 2)}')\n",
        "   \n",
        "    ## reshape the inputs\n",
        "    x_train = x_train.values.reshape(-1, x_train.shape[1])\n",
        "    x_val = x_val.values.reshape(-1, x_val.shape[1])\n",
        "\n",
        "    return x_train, X_test, x_val, y_train, y_test, y_val\n",
        "\n",
        "x_train, X_test, x_val, y_train, y_test, y_val = split_data()"
      ],
      "metadata": {
        "id": "B0YaIzvlN5H8",
        "colab": {
          "base_uri": "https://localhost:8080/"
        },
        "outputId": "650c7e60-979a-4d5f-eda5-3114505797ad"
      },
      "execution_count": null,
      "outputs": [
        {
          "output_type": "stream",
          "name": "stdout",
          "text": [
            "---- Data info ----\n",
            "{'obj': ['user_gender'], 'cat': ['imp_hour', 'click_label', 'user_age_group', 'flag_used', 'category1', 'emergency_cnt'], 'cont': ['user_age', 'user_following_cnt', 'user_pay_count', 'user_parcel_post_count', 'user_transfer_count', 'user_chat_count', 'price', 'comment_cnt', 'ad_interest', 'ad_pfavcnt', 'adver_favorite_count', 'adver_grade', 'adver_item_count', 'adver_interest', 'adver_review_count', 'adver_comment_count', 'adver_pay_count', 'adver_parcel_post_count', 'adver_transfer_count', 'adver_chat_count']}\n",
            "Data Frame shape: (842463, 101)\n",
            "# of train_data's rows: 589724 \n",
            "# of test_data's rows: 252739\n",
            "train:test ratio = 0.7:0.3\n",
            "# of train_data's rows: 471779 \n",
            "# of validation_data's rows: 117945\n",
            "train:test ratio = 0.8:0.2\n"
          ]
        }
      ]
    },
    {
      "cell_type": "code",
      "source": [
        "# Stacked autoencoder code\n",
        "## input layer\n",
        "input_layer = Input(shape=(x_train.shape[1],))\n",
        "print(f\"input layer's shape: {input_layer.shape}\")\n",
        "\n",
        "## encoding architecture\n",
        "encode_layer1 = Dense(64, activation='relu', activity_regularizer = 'l2')(input_layer)\n",
        "encode_layer1 = Dropout(0.4)(input_layer)\n",
        "encode_layer2 = Dense(32, activation='relu', activity_regularizer = 'l2')(encode_layer1)\n",
        "encode_layer2 = Dropout(0.2)(encode_layer1)\n",
        "encode_layer3 = Dense(16, activation='relu', activity_regularizer = 'l2')(encode_layer2)\n",
        "encode_layer3 = Dropout(0.1)(encode_layer2)\n",
        "\n",
        "## latent view\n",
        "latent_view  = Dense(2, activation='sigmoid')(encode_layer3)\n",
        "\n",
        "## decoding architecture\n",
        "decode_layer1 = Dense(16, activation='relu', activity_regularizer = 'l2')(latent_view)\n",
        "decode_layer1 = Dropout(0.4)(latent_view)\n",
        "decode_layer2 = Dense(32, activation='relu', activity_regularizer = 'l2')(decode_layer1)\n",
        "decode_layer3 = Dense(64, activation='relu', activity_regularizer = 'l2')(decode_layer2)\n",
        "\n",
        "## output layer\n",
        "output_layer  = Dense(x_train.shape[1])(decode_layer3)\n",
        "print(f\"output layer's shape: {output_layer.shape}\")\n",
        "\n",
        "layer_loss = tf.losses.mean_squared_error(input_layer, output_layer)\n",
        "print(f\"MSE of Autoencoder model: {layer_loss}\")\n",
        "\n",
        "model = tf.keras.Model(input_layer, output_layer)\n",
        "print(model.summary())"
      ],
      "metadata": {
        "colab": {
          "base_uri": "https://localhost:8080/"
        },
        "outputId": "201d451d-2e8d-4e12-9951-3b16d3223389",
        "id": "laoyTmG7yQjh"
      },
      "execution_count": null,
      "outputs": [
        {
          "output_type": "stream",
          "name": "stdout",
          "text": [
            "input layer's shape: (None, 101)\n",
            "output layer's shape: (None, 101)\n",
            "MSE of Autoencoder model: KerasTensor(type_spec=TensorSpec(shape=(None,), dtype=tf.float32, name=None), name='tf.math.reduce_mean_1/Mean:0', description=\"created by layer 'tf.math.reduce_mean_1'\")\n",
            "Model: \"model_1\"\n",
            "_________________________________________________________________\n",
            " Layer (type)                Output Shape              Param #   \n",
            "=================================================================\n",
            " input_2 (InputLayer)        [(None, 101)]             0         \n",
            "                                                                 \n",
            " dropout_4 (Dropout)         (None, 101)               0         \n",
            "                                                                 \n",
            " dropout_5 (Dropout)         (None, 101)               0         \n",
            "                                                                 \n",
            " dropout_6 (Dropout)         (None, 101)               0         \n",
            "                                                                 \n",
            " dense_11 (Dense)            (None, 2)                 204       \n",
            "                                                                 \n",
            " dropout_7 (Dropout)         (None, 2)                 0         \n",
            "                                                                 \n",
            " dense_13 (Dense)            (None, 32)                96        \n",
            "                                                                 \n",
            " dense_14 (Dense)            (None, 64)                2112      \n",
            "                                                                 \n",
            " dense_15 (Dense)            (None, 101)               6565      \n",
            "                                                                 \n",
            "=================================================================\n",
            "Total params: 8,977\n",
            "Trainable params: 8,977\n",
            "Non-trainable params: 0\n",
            "_________________________________________________________________\n",
            "None\n"
          ]
        }
      ]
    },
    {
      "cell_type": "code",
      "source": [
        "# 드롭아웃을 encoding에 시켰을 때\n",
        "# patience: patience 는 성능이 증가하지 않는 epoch 을 몇 번이나 허용할 것인가를 정의\n",
        "learning_rate = 0.01\n",
        "optimizer = keras.optimizers.Adam(learning_rate=learning_rate)\n",
        "model.compile(optimizer=optimizer, loss = 'binary_crossentropy', metrics = ['binary_accuracy'])\n",
        "early_stopping = EarlyStopping(monitor='val_loss', min_delta=0, patience=5, verbose=1, mode='auto') \n",
        "start = perf_counter()\n",
        "history = model.fit(x_train, y_train, epochs=200, batch_size=512, validation_data=(x_val, y_val), callbacks=[early_stopping])\n",
        "print(\"End of Training\")\n",
        "print(\"걸린 시간: {:g}분 {:.2f}초\".format((perf_counter() - start)//60, round((perf_counter() - start)%60)))"
      ],
      "metadata": {
        "colab": {
          "base_uri": "https://localhost:8080/"
        },
        "outputId": "c4b25e6b-6182-47bc-8433-e711f08d4240",
        "id": "Ll9dN5IcyQjn"
      },
      "execution_count": null,
      "outputs": [
        {
          "output_type": "stream",
          "name": "stdout",
          "text": [
            "Epoch 1/200\n",
            "922/922 [==============================] - 8s 8ms/step - loss: 0.2044 - binary_accuracy: 0.9707 - val_loss: 0.2022 - val_binary_accuracy: 0.9707\n",
            "Epoch 2/200\n",
            "922/922 [==============================] - 7s 8ms/step - loss: 0.2026 - binary_accuracy: 0.9707 - val_loss: 0.2024 - val_binary_accuracy: 0.9707\n",
            "Epoch 3/200\n",
            "922/922 [==============================] - 7s 8ms/step - loss: 0.2025 - binary_accuracy: 0.9707 - val_loss: 0.2022 - val_binary_accuracy: 0.9707\n",
            "Epoch 4/200\n",
            "922/922 [==============================] - 7s 8ms/step - loss: 0.2025 - binary_accuracy: 0.9707 - val_loss: 0.2031 - val_binary_accuracy: 0.9707\n",
            "Epoch 5/200\n",
            "922/922 [==============================] - 7s 7ms/step - loss: 0.2025 - binary_accuracy: 0.9707 - val_loss: 0.2022 - val_binary_accuracy: 0.9707\n",
            "Epoch 6/200\n",
            "922/922 [==============================] - 7s 7ms/step - loss: 0.2025 - binary_accuracy: 0.9707 - val_loss: 0.2027 - val_binary_accuracy: 0.9707\n",
            "Epoch 7/200\n",
            "922/922 [==============================] - 7s 7ms/step - loss: 0.2025 - binary_accuracy: 0.9707 - val_loss: 0.2036 - val_binary_accuracy: 0.9707\n",
            "Epoch 8/200\n",
            "922/922 [==============================] - 7s 7ms/step - loss: 0.2025 - binary_accuracy: 0.9707 - val_loss: 0.2022 - val_binary_accuracy: 0.9707\n",
            "Epoch 9/200\n",
            "922/922 [==============================] - 7s 7ms/step - loss: 0.2026 - binary_accuracy: 0.9707 - val_loss: 0.2022 - val_binary_accuracy: 0.9707\n",
            "Epoch 10/200\n",
            "922/922 [==============================] - 7s 8ms/step - loss: 0.2024 - binary_accuracy: 0.9707 - val_loss: 0.2027 - val_binary_accuracy: 0.9707\n",
            "Epoch 00010: early stopping\n",
            "End of Training\n",
            "걸린 시간: 1분 11.00초\n"
          ]
        }
      ]
    },
    {
      "cell_type": "code",
      "source": [
        "# create Tensorflow datatset\n",
        "batch_size = 512\n",
        "train_dataset = tf.data.Dataset.from_tensor_slices((x_train, y_train))\n",
        "test_dataset = tf.data.Dataset.from_tensor_slices((X_test, y_test))\n",
        "\n",
        "# shuffle and prepare batched dataset\n",
        "train_dataset = train_dataset.shuffle(buffer_size=len(x_train)).batch(batch_size)\n",
        "train_dataset = test_dataset.batch(batch_size)\n",
        "\n",
        "print(iter(train_dataset).__next__()) \n",
        "print(iter(test_dataset).__next__()) "
      ],
      "metadata": {
        "colab": {
          "base_uri": "https://localhost:8080/"
        },
        "id": "DnG5Okb9OtZa",
        "outputId": "6e34ab45-b8cb-44a2-a970-90d62c0cd271"
      },
      "execution_count": null,
      "outputs": [
        {
          "output_type": "stream",
          "name": "stdout",
          "text": [
            "(<tf.Tensor: shape=(512, 101), dtype=float64, numpy=\n",
            "array([[1.00000000e+00, 0.00000000e+00, 0.00000000e+00, ...,\n",
            "        0.00000000e+00, 9.42184154e-02, 1.00000000e+00],\n",
            "       [0.00000000e+00, 1.00000000e+00, 0.00000000e+00, ...,\n",
            "        3.74087591e-02, 0.00000000e+00, 6.82593857e-04],\n",
            "       [1.00000000e+00, 0.00000000e+00, 0.00000000e+00, ...,\n",
            "        0.00000000e+00, 4.28265525e-03, 7.50853242e-03],\n",
            "       ...,\n",
            "       [0.00000000e+00, 1.00000000e+00, 0.00000000e+00, ...,\n",
            "        0.00000000e+00, 0.00000000e+00, 7.50853242e-03],\n",
            "       [0.00000000e+00, 1.00000000e+00, 0.00000000e+00, ...,\n",
            "        1.82481752e-03, 0.00000000e+00, 0.00000000e+00],\n",
            "       [0.00000000e+00, 1.00000000e+00, 0.00000000e+00, ...,\n",
            "        0.00000000e+00, 2.37687366e-01, 2.04778157e-03]])>, <tf.Tensor: shape=(512,), dtype=int64, numpy=\n",
            "array([0, 1, 0, 0, 0, 0, 0, 1, 0, 0, 0, 0, 0, 0, 0, 0, 0, 0, 0, 0, 0, 0,\n",
            "       0, 0, 0, 0, 0, 0, 0, 0, 0, 0, 0, 0, 0, 0, 0, 0, 0, 0, 0, 0, 1, 0,\n",
            "       0, 0, 0, 0, 0, 0, 0, 0, 0, 0, 0, 0, 0, 0, 0, 0, 0, 0, 0, 0, 0, 1,\n",
            "       0, 0, 0, 0, 0, 0, 0, 0, 0, 0, 0, 0, 0, 0, 0, 0, 0, 0, 0, 0, 0, 0,\n",
            "       0, 0, 1, 0, 0, 0, 0, 0, 0, 0, 0, 0, 0, 0, 0, 0, 0, 0, 0, 0, 0, 0,\n",
            "       0, 0, 0, 0, 0, 0, 0, 0, 0, 0, 0, 0, 0, 0, 0, 0, 0, 0, 0, 0, 0, 0,\n",
            "       0, 0, 0, 0, 0, 1, 0, 0, 0, 0, 0, 0, 0, 0, 0, 0, 0, 0, 0, 0, 0, 0,\n",
            "       0, 0, 0, 0, 0, 0, 0, 0, 0, 0, 0, 0, 0, 1, 0, 0, 0, 0, 0, 0, 0, 0,\n",
            "       0, 0, 0, 0, 0, 0, 0, 0, 0, 0, 0, 0, 0, 0, 0, 0, 0, 0, 0, 0, 0, 0,\n",
            "       0, 0, 0, 0, 0, 0, 0, 0, 0, 0, 0, 0, 0, 0, 0, 0, 0, 0, 0, 1, 0, 0,\n",
            "       0, 0, 0, 0, 0, 0, 0, 0, 0, 0, 0, 0, 0, 0, 0, 0, 0, 0, 0, 0, 0, 0,\n",
            "       0, 0, 0, 0, 0, 0, 0, 0, 0, 0, 0, 0, 0, 0, 0, 0, 0, 0, 0, 0, 0, 0,\n",
            "       0, 0, 0, 0, 0, 0, 0, 0, 0, 0, 0, 0, 0, 0, 0, 0, 0, 0, 0, 0, 0, 0,\n",
            "       0, 0, 0, 0, 0, 0, 0, 0, 0, 0, 0, 0, 0, 0, 0, 0, 0, 0, 0, 0, 0, 0,\n",
            "       0, 0, 0, 0, 1, 0, 0, 1, 1, 0, 0, 1, 0, 0, 0, 0, 0, 0, 0, 0, 0, 0,\n",
            "       0, 0, 0, 0, 0, 0, 0, 0, 0, 0, 0, 0, 0, 0, 0, 0, 0, 0, 0, 0, 0, 0,\n",
            "       0, 0, 0, 0, 0, 0, 0, 0, 0, 0, 0, 0, 0, 0, 0, 0, 0, 0, 0, 1, 0, 1,\n",
            "       0, 0, 0, 0, 0, 0, 0, 0, 0, 0, 0, 0, 0, 0, 0, 0, 0, 1, 0, 0, 0, 0,\n",
            "       0, 0, 0, 0, 0, 0, 0, 0, 1, 0, 0, 1, 0, 0, 0, 0, 0, 0, 0, 0, 0, 0,\n",
            "       0, 0, 1, 0, 0, 0, 0, 0, 0, 0, 0, 0, 0, 0, 0, 0, 0, 0, 0, 0, 0, 0,\n",
            "       0, 0, 0, 1, 0, 0, 0, 0, 0, 0, 0, 0, 0, 0, 0, 0, 0, 0, 0, 0, 1, 0,\n",
            "       0, 0, 0, 0, 0, 0, 0, 0, 0, 0, 0, 0, 0, 0, 0, 0, 0, 0, 0, 0, 0, 0,\n",
            "       0, 0, 0, 0, 0, 0, 0, 0, 0, 0, 0, 0, 0, 0, 0, 0, 0, 0, 0, 0, 0, 0,\n",
            "       0, 0, 0, 0, 0, 0])>)\n",
            "(<tf.Tensor: shape=(101,), dtype=float64, numpy=\n",
            "array([1.        , 0.        , 0.        , 0.        , 0.        ,\n",
            "       0.        , 0.        , 0.        , 0.        , 0.        ,\n",
            "       0.        , 0.        , 0.        , 0.        , 0.        ,\n",
            "       0.        , 0.        , 0.        , 0.        , 0.        ,\n",
            "       0.        , 0.        , 0.        , 0.        , 0.        ,\n",
            "       1.        , 0.        , 1.        , 0.        , 0.        ,\n",
            "       0.        , 0.        , 0.        , 0.        , 1.        ,\n",
            "       0.        , 0.        , 0.        , 0.        , 0.        ,\n",
            "       0.        , 0.        , 0.        , 0.        , 0.        ,\n",
            "       0.        , 1.        , 0.        , 0.        , 0.        ,\n",
            "       0.        , 0.        , 0.        , 0.        , 0.        ,\n",
            "       0.        , 0.        , 0.        , 0.        , 0.        ,\n",
            "       0.        , 0.        , 1.        , 0.        , 0.        ,\n",
            "       0.        , 0.        , 0.        , 0.        , 0.        ,\n",
            "       0.        , 0.        , 0.        , 0.        , 0.        ,\n",
            "       0.        , 0.        , 0.        , 0.        , 0.        ,\n",
            "       0.        , 0.19230769, 0.        , 0.        , 0.        ,\n",
            "       0.        , 0.        , 0.06306306, 0.00496278, 0.01686675,\n",
            "       0.03774257, 0.30636743, 0.19673322, 0.07277643, 0.03964909,\n",
            "       0.19330105, 0.03883814, 0.43302577, 0.        , 0.09421842,\n",
            "       1.        ])>, <tf.Tensor: shape=(), dtype=int64, numpy=0>)\n"
          ]
        }
      ]
    },
    {
      "cell_type": "code",
      "source": [
        "train_labels = X_test.astype(bool)\n",
        "test_labels = y_test.astype(bool) #creating normal and fraud datasets \n",
        "true_train_data = X_test[~train_labels] \n",
        "true_test_data = y_test[~test_labels] \n",
        "false_train_data = X_test[train_labels] \n",
        "false_test_data = y_test[test_labels] \n",
        "print(\" No. of records in Fraud Train Data=\",len(false_train_data)) \n",
        "print(\" No. of records in Normal Train data=\",len(true_train_data)) \n",
        "print(\" No. of records in Fraud Test Data=\",len(false_test_data)) \n",
        "print(\" No. of records in Normal Test data=\",len(true_test_data))"
      ],
      "metadata": {
        "colab": {
          "base_uri": "https://localhost:8080/"
        },
        "id": "GDFVZxXQb6Fn",
        "outputId": "6a9d6262-58f0-45ac-b025-d6da0ce93bd0"
      },
      "execution_count": null,
      "outputs": [
        {
          "output_type": "stream",
          "name": "stdout",
          "text": [
            " No. of records in Fraud Train Data= 252739\n",
            " No. of records in Normal Train data= 252739\n",
            " No. of records in Fraud Test Data= 7414\n",
            " No. of records in Normal Test data= 245325\n"
          ]
        }
      ]
    },
    {
      "cell_type": "code",
      "source": [
        "pred_y = model.predict(X_test) \n",
        "mse = tf.keras.metrics.mean_squared_error(X_test, pred_y)\n",
        "result_df = pd.DataFrame({'Reconstruction_error': mse, 'True_class': test_labels})\n",
        "result_df = pd.concat([error_df, result_df], axis=1)\n",
        "result_df"
      ],
      "metadata": {
        "colab": {
          "base_uri": "https://localhost:8080/",
          "height": 424
        },
        "id": "7q1pzVtCk4Qt",
        "outputId": "68407193-de23-4942-8022-bb4ac30c464b"
      },
      "execution_count": null,
      "outputs": [
        {
          "output_type": "execute_result",
          "data": {
            "text/html": [
              "\n",
              "  <div id=\"df-a572c80b-4b71-451b-98eb-1de9c2d3087c\">\n",
              "    <div class=\"colab-df-container\">\n",
              "      <div>\n",
              "<style scoped>\n",
              "    .dataframe tbody tr th:only-of-type {\n",
              "        vertical-align: middle;\n",
              "    }\n",
              "\n",
              "    .dataframe tbody tr th {\n",
              "        vertical-align: top;\n",
              "    }\n",
              "\n",
              "    .dataframe thead th {\n",
              "        text-align: right;\n",
              "    }\n",
              "</style>\n",
              "<table border=\"1\" class=\"dataframe\">\n",
              "  <thead>\n",
              "    <tr style=\"text-align: right;\">\n",
              "      <th></th>\n",
              "      <th>Reconstruction_error</th>\n",
              "      <th>True_class</th>\n",
              "      <th>click_label</th>\n",
              "    </tr>\n",
              "  </thead>\n",
              "  <tbody>\n",
              "    <tr>\n",
              "      <th>24417</th>\n",
              "      <td>0.073019</td>\n",
              "      <td>False</td>\n",
              "      <td>0</td>\n",
              "    </tr>\n",
              "    <tr>\n",
              "      <th>837998</th>\n",
              "      <td>0.063128</td>\n",
              "      <td>True</td>\n",
              "      <td>1</td>\n",
              "    </tr>\n",
              "    <tr>\n",
              "      <th>445289</th>\n",
              "      <td>0.062405</td>\n",
              "      <td>False</td>\n",
              "      <td>0</td>\n",
              "    </tr>\n",
              "    <tr>\n",
              "      <th>634064</th>\n",
              "      <td>0.062290</td>\n",
              "      <td>False</td>\n",
              "      <td>0</td>\n",
              "    </tr>\n",
              "    <tr>\n",
              "      <th>620178</th>\n",
              "      <td>0.068503</td>\n",
              "      <td>False</td>\n",
              "      <td>0</td>\n",
              "    </tr>\n",
              "    <tr>\n",
              "      <th>...</th>\n",
              "      <td>...</td>\n",
              "      <td>...</td>\n",
              "      <td>...</td>\n",
              "    </tr>\n",
              "    <tr>\n",
              "      <th>551496</th>\n",
              "      <td>0.067845</td>\n",
              "      <td>False</td>\n",
              "      <td>0</td>\n",
              "    </tr>\n",
              "    <tr>\n",
              "      <th>220758</th>\n",
              "      <td>0.062176</td>\n",
              "      <td>False</td>\n",
              "      <td>0</td>\n",
              "    </tr>\n",
              "    <tr>\n",
              "      <th>516393</th>\n",
              "      <td>0.066118</td>\n",
              "      <td>False</td>\n",
              "      <td>0</td>\n",
              "    </tr>\n",
              "    <tr>\n",
              "      <th>402268</th>\n",
              "      <td>0.063068</td>\n",
              "      <td>False</td>\n",
              "      <td>0</td>\n",
              "    </tr>\n",
              "    <tr>\n",
              "      <th>436808</th>\n",
              "      <td>0.063974</td>\n",
              "      <td>False</td>\n",
              "      <td>0</td>\n",
              "    </tr>\n",
              "  </tbody>\n",
              "</table>\n",
              "<p>252739 rows × 3 columns</p>\n",
              "</div>\n",
              "      <button class=\"colab-df-convert\" onclick=\"convertToInteractive('df-a572c80b-4b71-451b-98eb-1de9c2d3087c')\"\n",
              "              title=\"Convert this dataframe to an interactive table.\"\n",
              "              style=\"display:none;\">\n",
              "        \n",
              "  <svg xmlns=\"http://www.w3.org/2000/svg\" height=\"24px\"viewBox=\"0 0 24 24\"\n",
              "       width=\"24px\">\n",
              "    <path d=\"M0 0h24v24H0V0z\" fill=\"none\"/>\n",
              "    <path d=\"M18.56 5.44l.94 2.06.94-2.06 2.06-.94-2.06-.94-.94-2.06-.94 2.06-2.06.94zm-11 1L8.5 8.5l.94-2.06 2.06-.94-2.06-.94L8.5 2.5l-.94 2.06-2.06.94zm10 10l.94 2.06.94-2.06 2.06-.94-2.06-.94-.94-2.06-.94 2.06-2.06.94z\"/><path d=\"M17.41 7.96l-1.37-1.37c-.4-.4-.92-.59-1.43-.59-.52 0-1.04.2-1.43.59L10.3 9.45l-7.72 7.72c-.78.78-.78 2.05 0 2.83L4 21.41c.39.39.9.59 1.41.59.51 0 1.02-.2 1.41-.59l7.78-7.78 2.81-2.81c.8-.78.8-2.07 0-2.86zM5.41 20L4 18.59l7.72-7.72 1.47 1.35L5.41 20z\"/>\n",
              "  </svg>\n",
              "      </button>\n",
              "      \n",
              "  <style>\n",
              "    .colab-df-container {\n",
              "      display:flex;\n",
              "      flex-wrap:wrap;\n",
              "      gap: 12px;\n",
              "    }\n",
              "\n",
              "    .colab-df-convert {\n",
              "      background-color: #E8F0FE;\n",
              "      border: none;\n",
              "      border-radius: 50%;\n",
              "      cursor: pointer;\n",
              "      display: none;\n",
              "      fill: #1967D2;\n",
              "      height: 32px;\n",
              "      padding: 0 0 0 0;\n",
              "      width: 32px;\n",
              "    }\n",
              "\n",
              "    .colab-df-convert:hover {\n",
              "      background-color: #E2EBFA;\n",
              "      box-shadow: 0px 1px 2px rgba(60, 64, 67, 0.3), 0px 1px 3px 1px rgba(60, 64, 67, 0.15);\n",
              "      fill: #174EA6;\n",
              "    }\n",
              "\n",
              "    [theme=dark] .colab-df-convert {\n",
              "      background-color: #3B4455;\n",
              "      fill: #D2E3FC;\n",
              "    }\n",
              "\n",
              "    [theme=dark] .colab-df-convert:hover {\n",
              "      background-color: #434B5C;\n",
              "      box-shadow: 0px 1px 3px 1px rgba(0, 0, 0, 0.15);\n",
              "      filter: drop-shadow(0px 1px 2px rgba(0, 0, 0, 0.3));\n",
              "      fill: #FFFFFF;\n",
              "    }\n",
              "  </style>\n",
              "\n",
              "      <script>\n",
              "        const buttonEl =\n",
              "          document.querySelector('#df-a572c80b-4b71-451b-98eb-1de9c2d3087c button.colab-df-convert');\n",
              "        buttonEl.style.display =\n",
              "          google.colab.kernel.accessAllowed ? 'block' : 'none';\n",
              "\n",
              "        async function convertToInteractive(key) {\n",
              "          const element = document.querySelector('#df-a572c80b-4b71-451b-98eb-1de9c2d3087c');\n",
              "          const dataTable =\n",
              "            await google.colab.kernel.invokeFunction('convertToInteractive',\n",
              "                                                     [key], {});\n",
              "          if (!dataTable) return;\n",
              "\n",
              "          const docLinkHtml = 'Like what you see? Visit the ' +\n",
              "            '<a target=\"_blank\" href=https://colab.research.google.com/notebooks/data_table.ipynb>data table notebook</a>'\n",
              "            + ' to learn more about interactive tables.';\n",
              "          element.innerHTML = '';\n",
              "          dataTable['output_type'] = 'display_data';\n",
              "          await google.colab.output.renderOutput(dataTable, element);\n",
              "          const docLink = document.createElement('div');\n",
              "          docLink.innerHTML = docLinkHtml;\n",
              "          element.appendChild(docLink);\n",
              "        }\n",
              "      </script>\n",
              "    </div>\n",
              "  </div>\n",
              "  "
            ],
            "text/plain": [
              "        Reconstruction_error  True_class  click_label\n",
              "24417               0.073019       False            0\n",
              "837998              0.063128        True            1\n",
              "445289              0.062405       False            0\n",
              "634064              0.062290       False            0\n",
              "620178              0.068503       False            0\n",
              "...                      ...         ...          ...\n",
              "551496              0.067845       False            0\n",
              "220758              0.062176       False            0\n",
              "516393              0.066118       False            0\n",
              "402268              0.063068       False            0\n",
              "436808              0.063974       False            0\n",
              "\n",
              "[252739 rows x 3 columns]"
            ]
          },
          "metadata": {},
          "execution_count": 23
        }
      ]
    },
    {
      "cell_type": "code",
      "source": [
        "thresholds = 0.06\n",
        "groups = result_df.groupby('True_class') \n",
        "fig, ax = plt.subplots() \n",
        "for name, group in groups: \n",
        "  ax.plot(group.index, group.Reconstruction_error, marker='o', ms=3.5, linestyle='', label= \"Fraud\" if name == 1 else \"Normal\") \n",
        "ax.hlines(thresholds, ax.get_xlim()[0], ax.get_xlim()[1], colors=\"r\", zorder=100, label='Threshold') \n",
        "ax.legend() \n",
        "plt.title(\"Reconstruction error for normal and fraud data\") \n",
        "plt.ylabel(\"Reconstruction error\") \n",
        "plt.xlabel(\"Data point index\") \n",
        "plt.show();"
      ],
      "metadata": {
        "colab": {
          "base_uri": "https://localhost:8080/",
          "height": 295
        },
        "id": "W4F_52OVv9pG",
        "outputId": "ac3e94a2-e37f-4913-fa06-e9072c7e3138"
      },
      "execution_count": null,
      "outputs": [
        {
          "output_type": "display_data",
          "data": {
            "image/png": "[encoded data removed]",
            "text/plain": [
              "<Figure size 432x288 with 1 Axes>"
            ]
          },
          "metadata": {
            "needs_background": "light"
          }
        }
      ]
    },
    {
      "cell_type": "code",
      "source": [
        "error_df.groupby('True_class').mean()"
      ],
      "metadata": {
        "colab": {
          "base_uri": "https://localhost:8080/",
          "height": 143
        },
        "id": "PKjeY9_gvsKo",
        "outputId": "1a1e3fc3-c04a-4a99-d141-5663e55fac89"
      },
      "execution_count": null,
      "outputs": [
        {
          "output_type": "execute_result",
          "data": {
            "text/html": [
              "\n",
              "  <div id=\"df-eb043302-802d-43da-a7cb-4fd5f9777cf4\">\n",
              "    <div class=\"colab-df-container\">\n",
              "      <div>\n",
              "<style scoped>\n",
              "    .dataframe tbody tr th:only-of-type {\n",
              "        vertical-align: middle;\n",
              "    }\n",
              "\n",
              "    .dataframe tbody tr th {\n",
              "        vertical-align: top;\n",
              "    }\n",
              "\n",
              "    .dataframe thead th {\n",
              "        text-align: right;\n",
              "    }\n",
              "</style>\n",
              "<table border=\"1\" class=\"dataframe\">\n",
              "  <thead>\n",
              "    <tr style=\"text-align: right;\">\n",
              "      <th></th>\n",
              "      <th>Reconstruction_error</th>\n",
              "    </tr>\n",
              "    <tr>\n",
              "      <th>True_class</th>\n",
              "      <th></th>\n",
              "    </tr>\n",
              "  </thead>\n",
              "  <tbody>\n",
              "    <tr>\n",
              "      <th>False</th>\n",
              "      <td>0.060659</td>\n",
              "    </tr>\n",
              "    <tr>\n",
              "      <th>True</th>\n",
              "      <td>0.060499</td>\n",
              "    </tr>\n",
              "  </tbody>\n",
              "</table>\n",
              "</div>\n",
              "      <button class=\"colab-df-convert\" onclick=\"convertToInteractive('df-eb043302-802d-43da-a7cb-4fd5f9777cf4')\"\n",
              "              title=\"Convert this dataframe to an interactive table.\"\n",
              "              style=\"display:none;\">\n",
              "        \n",
              "  <svg xmlns=\"http://www.w3.org/2000/svg\" height=\"24px\"viewBox=\"0 0 24 24\"\n",
              "       width=\"24px\">\n",
              "    <path d=\"M0 0h24v24H0V0z\" fill=\"none\"/>\n",
              "    <path d=\"M18.56 5.44l.94 2.06.94-2.06 2.06-.94-2.06-.94-.94-2.06-.94 2.06-2.06.94zm-11 1L8.5 8.5l.94-2.06 2.06-.94-2.06-.94L8.5 2.5l-.94 2.06-2.06.94zm10 10l.94 2.06.94-2.06 2.06-.94-2.06-.94-.94-2.06-.94 2.06-2.06.94z\"/><path d=\"M17.41 7.96l-1.37-1.37c-.4-.4-.92-.59-1.43-.59-.52 0-1.04.2-1.43.59L10.3 9.45l-7.72 7.72c-.78.78-.78 2.05 0 2.83L4 21.41c.39.39.9.59 1.41.59.51 0 1.02-.2 1.41-.59l7.78-7.78 2.81-2.81c.8-.78.8-2.07 0-2.86zM5.41 20L4 18.59l7.72-7.72 1.47 1.35L5.41 20z\"/>\n",
              "  </svg>\n",
              "      </button>\n",
              "      \n",
              "  <style>\n",
              "    .colab-df-container {\n",
              "      display:flex;\n",
              "      flex-wrap:wrap;\n",
              "      gap: 12px;\n",
              "    }\n",
              "\n",
              "    .colab-df-convert {\n",
              "      background-color: #E8F0FE;\n",
              "      border: none;\n",
              "      border-radius: 50%;\n",
              "      cursor: pointer;\n",
              "      display: none;\n",
              "      fill: #1967D2;\n",
              "      height: 32px;\n",
              "      padding: 0 0 0 0;\n",
              "      width: 32px;\n",
              "    }\n",
              "\n",
              "    .colab-df-convert:hover {\n",
              "      background-color: #E2EBFA;\n",
              "      box-shadow: 0px 1px 2px rgba(60, 64, 67, 0.3), 0px 1px 3px 1px rgba(60, 64, 67, 0.15);\n",
              "      fill: #174EA6;\n",
              "    }\n",
              "\n",
              "    [theme=dark] .colab-df-convert {\n",
              "      background-color: #3B4455;\n",
              "      fill: #D2E3FC;\n",
              "    }\n",
              "\n",
              "    [theme=dark] .colab-df-convert:hover {\n",
              "      background-color: #434B5C;\n",
              "      box-shadow: 0px 1px 3px 1px rgba(0, 0, 0, 0.15);\n",
              "      filter: drop-shadow(0px 1px 2px rgba(0, 0, 0, 0.3));\n",
              "      fill: #FFFFFF;\n",
              "    }\n",
              "  </style>\n",
              "\n",
              "      <script>\n",
              "        const buttonEl =\n",
              "          document.querySelector('#df-eb043302-802d-43da-a7cb-4fd5f9777cf4 button.colab-df-convert');\n",
              "        buttonEl.style.display =\n",
              "          google.colab.kernel.accessAllowed ? 'block' : 'none';\n",
              "\n",
              "        async function convertToInteractive(key) {\n",
              "          const element = document.querySelector('#df-eb043302-802d-43da-a7cb-4fd5f9777cf4');\n",
              "          const dataTable =\n",
              "            await google.colab.kernel.invokeFunction('convertToInteractive',\n",
              "                                                     [key], {});\n",
              "          if (!dataTable) return;\n",
              "\n",
              "          const docLinkHtml = 'Like what you see? Visit the ' +\n",
              "            '<a target=\"_blank\" href=https://colab.research.google.com/notebooks/data_table.ipynb>data table notebook</a>'\n",
              "            + ' to learn more about interactive tables.';\n",
              "          element.innerHTML = '';\n",
              "          dataTable['output_type'] = 'display_data';\n",
              "          await google.colab.output.renderOutput(dataTable, element);\n",
              "          const docLink = document.createElement('div');\n",
              "          docLink.innerHTML = docLinkHtml;\n",
              "          element.appendChild(docLink);\n",
              "        }\n",
              "      </script>\n",
              "    </div>\n",
              "  </div>\n",
              "  "
            ],
            "text/plain": [
              "            Reconstruction_error\n",
              "True_class                      \n",
              "False                   0.060659\n",
              "True                    0.060499"
            ]
          },
          "metadata": {},
          "execution_count": 105
        }
      ]
    },
    {
      "cell_type": "code",
      "source": [
        "# test data confusion matrix (최종 결과용)\n",
        "thresholds = [0.06, 0.065, 0.07, 0.075, 0.08, 0.085]#[i/1000 for i in range(50, 100)] \n",
        "for thr in thresholds:\n",
        "    pred_y = [1 if e > thr else 0 for e in result_df.Reconstruction_error.values]  \n",
        "    error_df['pred'] = pred_y\n",
        "    cm = confusion_matrix(result_df.True_class, pred_y) \n",
        "    print(cm)\n",
        "    LABELS = ['No', 'Yes']\n",
        "    plt.figure(figsize=(4, 4)) \n",
        "    sns.heatmap(conf_matrix, xticklabels=LABELS, yticklabels=LABELS, annot=True, fmt=\"g\", cmap='Pastel1'); plt.title(\"Confusion matrix\") \n",
        "    plt.ylabel('True class') \n",
        "    plt.xlabel('Predicted class') \n",
        "    plt.show() \n",
        "    print(classification_report(result_df.True_class, pred_y))\n",
        "    print('ROC-AUC:', roc_auc_score(result_df.True_class, pred_y))"
      ],
      "metadata": {
        "colab": {
          "base_uri": "https://localhost:8080/",
          "height": 1000
        },
        "id": "gEvvyE57IctY",
        "outputId": "df83fe31-dda7-44e0-d379-ee9cfc0566d9"
      },
      "execution_count": null,
      "outputs": [
        {
          "output_type": "stream",
          "name": "stdout",
          "text": [
            "[[ 51528 193797]\n",
            " [  1853   5561]]\n"
          ]
        },
        {
          "output_type": "display_data",
          "data": {
            "image/png": "[encoded data removed]",
            "text/plain": [
              "<Figure size 288x288 with 2 Axes>"
            ]
          },
          "metadata": {
            "needs_background": "light"
          }
        },
        {
          "output_type": "stream",
          "name": "stdout",
          "text": [
            "              precision    recall  f1-score   support\n",
            "\n",
            "       False       0.97      0.21      0.35    245325\n",
            "        True       0.03      0.75      0.05      7414\n",
            "\n",
            "    accuracy                           0.23    252739\n",
            "   macro avg       0.50      0.48      0.20    252739\n",
            "weighted avg       0.94      0.23      0.34    252739\n",
            "\n",
            "ROC-AUC: 0.480053591588109\n",
            "[[204788  40537]\n",
            " [  6256   1158]]\n"
          ]
        },
        {
          "output_type": "display_data",
          "data": {
            "image/png": "[encoded data removed]",
            "text/plain": [
              "<Figure size 288x288 with 2 Axes>"
            ]
          },
          "metadata": {
            "needs_background": "light"
          }
        },
        {
          "output_type": "stream",
          "name": "stdout",
          "text": [
            "              precision    recall  f1-score   support\n",
            "\n",
            "       False       0.97      0.83      0.90    245325\n",
            "        True       0.03      0.16      0.05      7414\n",
            "\n",
            "    accuracy                           0.81    252739\n",
            "   macro avg       0.50      0.50      0.47    252739\n",
            "weighted avg       0.94      0.81      0.87    252739\n",
            "\n",
            "ROC-AUC: 0.49547652018013355\n",
            "[[234663  10662]\n",
            " [  7068    346]]\n"
          ]
        },
        {
          "output_type": "display_data",
          "data": {
            "image/png": "[encoded data removed]",
            "text/plain": [
              "<Figure size 288x288 with 2 Axes>"
            ]
          },
          "metadata": {
            "needs_background": "light"
          }
        },
        {
          "output_type": "stream",
          "name": "stdout",
          "text": [
            "              precision    recall  f1-score   support\n",
            "\n",
            "       False       0.97      0.96      0.96    245325\n",
            "        True       0.03      0.05      0.04      7414\n",
            "\n",
            "    accuracy                           0.93    252739\n",
            "   macro avg       0.50      0.50      0.50    252739\n",
            "weighted avg       0.94      0.93      0.94    252739\n",
            "\n",
            "ROC-AUC: 0.5016038748442654\n",
            "[[244379    946]\n",
            " [  7401     13]]\n"
          ]
        },
        {
          "output_type": "display_data",
          "data": {
            "image/png": "[encoded data removed]",
            "text/plain": [
              "<Figure size 288x288 with 2 Axes>"
            ]
          },
          "metadata": {
            "needs_background": "light"
          }
        },
        {
          "output_type": "stream",
          "name": "stdout",
          "text": [
            "              precision    recall  f1-score   support\n",
            "\n",
            "       False       0.97      1.00      0.98    245325\n",
            "        True       0.01      0.00      0.00      7414\n",
            "\n",
            "    accuracy                           0.97    252739\n",
            "   macro avg       0.49      0.50      0.49    252739\n",
            "weighted avg       0.94      0.97      0.95    252739\n",
            "\n",
            "ROC-AUC: 0.49894866509802915\n",
            "[[244927    398]\n",
            " [  7407      7]]\n"
          ]
        },
        {
          "output_type": "display_data",
          "data": {
            "image/png": "[encoded data removed]",
            "text/plain": [
              "<Figure size 288x288 with 2 Axes>"
            ]
          },
          "metadata": {
            "needs_background": "light"
          }
        },
        {
          "output_type": "stream",
          "name": "stdout",
          "text": [
            "              precision    recall  f1-score   support\n",
            "\n",
            "       False       0.97      1.00      0.98    245325\n",
            "        True       0.02      0.00      0.00      7414\n",
            "\n",
            "    accuracy                           0.97    252739\n",
            "   macro avg       0.49      0.50      0.49    252739\n",
            "weighted avg       0.94      0.97      0.96    252739\n",
            "\n",
            "ROC-AUC: 0.49966091099129667\n",
            "[[245001    324]\n",
            " [  7407      7]]\n"
          ]
        },
        {
          "output_type": "display_data",
          "data": {
            "image/png": "[encoded data removed]",
            "text/plain": [
              "<Figure size 288x288 with 2 Axes>"
            ]
          },
          "metadata": {
            "needs_background": "light"
          }
        },
        {
          "output_type": "stream",
          "name": "stdout",
          "text": [
            "              precision    recall  f1-score   support\n",
            "\n",
            "       False       0.97      1.00      0.98    245325\n",
            "        True       0.02      0.00      0.00      7414\n",
            "\n",
            "    accuracy                           0.97    252739\n",
            "   macro avg       0.50      0.50      0.49    252739\n",
            "weighted avg       0.94      0.97      0.96    252739\n",
            "\n",
            "ROC-AUC: 0.4998117313316615\n"
          ]
        }
      ]
    }
  ]
}